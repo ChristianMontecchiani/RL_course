{
 "cells": [
  {
   "cell_type": "code",
   "execution_count": 1,
   "metadata": {},
   "outputs": [],
   "source": [
    "import sys, os\n",
    "sys.path.insert(0, os.path.abspath(\"..\"))\n",
    "import numpy as np\n",
    "from itertools import product\n",
    "\n",
    "from sailing import SailingGridworld\n",
    "from common import helper as h"
   ]
  },
  {
   "cell_type": "code",
   "execution_count": 2,
   "metadata": {},
   "outputs": [],
   "source": [
    "gamma = 0.9\n",
    "eps = 1e-4 # TODO: use this value for Task 2 and Task 3\n",
    "value_update_iter = 100 # TODO: change this in Task 2\n",
    "rock_penalty = -10 # TODO: change this in Q1.3 # rock_penalty = -10"
   ]
  },
  {
   "cell_type": "code",
   "execution_count": 3,
   "metadata": {
    "scrolled": true
   },
   "outputs": [
    {
     "data": {
      "image/png": "[encoded data removed]",
      "text/plain": [
       "<Figure size 1200x800 with 1 Axes>"
      ]
     },
     "metadata": {},
     "output_type": "display_data"
    }
   ],
   "source": [
    "# Set up the environment\n",
    "env = SailingGridworld(rock_penalty=rock_penalty, value_update_iter=value_update_iter)"
   ]
  },
  {
   "cell_type": "code",
   "execution_count": 4,
   "metadata": {},
   "outputs": [],
   "source": [
    "\n",
    "from webbrowser import get\n",
    "\n",
    "\n",
    "def get_values_policy(iterations):\n",
    "    v_est = np.zeros((env.w, env.h))\n",
    "    policy = np.zeros((env.w, env.h))\n",
    "    env.draw_values_policy(v_est, policy)\n",
    "\n",
    "    last_change = 0 # Sign the last time that the policy has changed\n",
    "    first = True \n",
    "    \n",
    "    for i in range(iterations):\n",
    "        if i % 20 == 0:\n",
    "            print(f\"Iteration: {i}/100\")\n",
    "        # TODO: Task 1, implement the value iteration and policy\n",
    "        # TODO: Task 2, convergency of the value function and policy\n",
    "\n",
    "        ########## Your code starts here ##########\n",
    "        temp_value = np.zeros((env.w, env.h))\n",
    "        temp_policy = np.zeros((env.w, env.h))\n",
    "\n",
    "        for x in range(env.w):\n",
    "            for y in range(env.h):\n",
    "                value_list = np.zeros(env.n_actions)\n",
    "                for action in range(env.n_actions):\n",
    "                    transitions = env.transitions[x, y, action]\n",
    "                    action_value = 0 \n",
    "                    for transition in transitions:\n",
    "                        next_state, reward, done, prob = transition.state, transition.reward, transition.done, transition.prob\n",
    "                        if done: \n",
    "                            action_value += prob * reward\n",
    "                            continue\n",
    "                        action_value += prob * (reward + gamma * v_est[next_state[0], next_state[1]]) \n",
    "                    value_list[action] = action_value\n",
    "                next_value = np.max(value_list)\n",
    "                temp_value[x, y] = next_value\n",
    "                temp_policy[x, y] = np.argmax(value_list)\n",
    "        \n",
    "        # value function convergence\n",
    "        delta = np.abs(v_est - temp_value).max()\n",
    "        if delta < eps and i > 0 and first:\n",
    "            first = False\n",
    "            print(f\"Value function has converged during iteration: {i}\")\n",
    "            \n",
    "        v_est = temp_value\n",
    "\n",
    "        # Policy convergence\n",
    "        if np.array_equal(temp_policy, policy) == False: \n",
    "            last_change = i\n",
    "        policy = temp_policy\n",
    "\n",
    "        env.draw_values_policy(v_est, policy)\n",
    "        \n",
    "        if i +1 == iterations:\n",
    "            print(f\"The last change in the policy is: {last_change}\")\n",
    "        ########## Your code ends here ##########\n",
    "\n",
    "    return v_est, policy\n"
   ]
  },
  {
   "cell_type": "code",
   "execution_count": 5,
   "metadata": {},
   "outputs": [
    {
     "name": "stdout",
     "output_type": "stream",
     "text": [
      "Iteration: 0/100\n"
     ]
    }
   ],
   "source": [
    "# value iteration -- update value estimation and policy\n",
    "value_est, policy = get_values_policy(iterations=value_update_iter)"
   ]
  },
  {
   "cell_type": "code",
   "execution_count": null,
   "metadata": {},
   "outputs": [],
   "source": [
    "# Eval policy\n",
    "N = 1000 # TODO: change for task 4\n",
    "returns = list()\n",
    "\n",
    "for ep in range(N):\n",
    "    if (ep + 1) % 200 == 0: \n",
    "        print(f\"Episodes {ep+1}/{N}\")\n",
    "    state = env.reset()\n",
    "    done = False\n",
    "\n",
    "    rewards = list()\n",
    "    \n",
    "    while not done:\n",
    "\n",
    "        ########## You code starts here ##########\n",
    "\n",
    "        # TODO: Use the policy to take the optimal action (Task 1)\n",
    "        \n",
    "        action = policy[state[0], state[1]]\n",
    "\n",
    "        # Take a step in the environment\n",
    "        state, reward, done, _ = env.step(action)\n",
    "        \n",
    "        # TODO: Calculate discounted return for the initial state\n",
    "        rewards.append(reward)\n",
    "        if done: \n",
    "            G = np.sum(np.array([(gamma**i) * rew for i,rew in enumerate(rewards)]))\n",
    "            returns.append(G)\n",
    "\n",
    "        #env.reset()\n",
    "\n",
    "returns = np.array(returns)\n",
    "print(f\"The mean return of {N} episodes is: {np.mean(returns):.2f} \")\n",
    "print(f\"The standard deviation return of {N} episodes is: {np.std(returns):.2f} \")\n",
    "                \n",
    "                            ########## You code ends here ##########\n"
   ]
  },
  {
   "cell_type": "code",
   "execution_count": null,
   "metadata": {},
   "outputs": [],
   "source": [
    "# save value and policy\n",
    "h.save_object({'value': value_est, 'policy': policy}, './value_policy.pkl')"
   ]
  },
  {
   "cell_type": "code",
   "execution_count": null,
   "metadata": {},
   "outputs": [],
   "source": []
  }
 ],
 "metadata": {
  "kernelspec": {
   "display_name": "Python 3.9.7 ('base')",
   "language": "python",
   "name": "python3"
  },
  "language_info": {
   "codemirror_mode": {
    "name": "ipython",
    "version": 3
   },
   "file_extension": ".py",
   "mimetype": "text/x-python",
   "name": "python",
   "nbconvert_exporter": "python",
   "pygments_lexer": "ipython3",
   "version": "3.9.7"
  },
  "vscode": {
   "interpreter": {
    "hash": "d7e5a1f785ed82844e2da5d30522181462e1597dbd1807cbc4c5c0cc1d5a2e0b"
   }
  }
 },
 "nbformat": 4,
 "nbformat_minor": 2
}
